{
 "cells": [
  {
   "cell_type": "code",
   "execution_count": null,
   "metadata": {},
   "outputs": [],
   "source": [
    "import re\n",
    "%run utils.ipynb"
   ]
  },
  {
   "cell_type": "code",
   "execution_count": null,
   "metadata": {},
   "outputs": [],
   "source": [
    "# test extract_salary_value function\n",
    "def extract_salary_value(salary_str):\n",
    "        numbers = re.findall(r'\\d{1,3}(?:,\\d{3})*(?:\\.\\d+)?', salary_str)\n",
    "        # Convert the numbers to float and return the list\n",
    "        return [float(num.replace(',', '')) for num in numbers]\n",
    "\n",
    "str1 = '$35.00/hr - $40.44/hr'\t\n",
    "str2 = '$84,720.00/yr - $142,320.00/yr'\n",
    "str3 = '$5,627.00/mo - $8,440.00/mo'\n",
    "print(extract_salary_value(str1))\n",
    "print(extract_salary_value(str2))\n",
    "print(extract_salary_value(str3))"
   ]
  }
 ],
 "metadata": {
  "language_info": {
   "name": "python"
  }
 },
 "nbformat": 4,
 "nbformat_minor": 2
}
